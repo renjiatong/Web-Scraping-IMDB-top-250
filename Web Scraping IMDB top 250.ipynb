{
 "cells": [
  {
   "cell_type": "markdown",
   "metadata": {},
   "source": [
    "# Web Scraping IMDB Top 250"
   ]
  },
  {
   "cell_type": "markdown",
   "metadata": {},
   "source": [
    "![title](img/crawling.jpg)"
   ]
  },
  {
   "cell_type": "markdown",
   "metadata": {},
   "source": [
    "## Part 1 - Web Scraping Basics"
   ]
  },
  {
   "cell_type": "markdown",
   "metadata": {},
   "source": [
    "### 1 - What is web scraping and web crawling？"
   ]
  },
  {
   "cell_type": "markdown",
   "metadata": {},
   "source": [
    "**Web scraping** is an automated program that queries a web server, requests data (usually in the form of HTML), and then parses that data to extract needed information."
   ]
  },
  {
   "cell_type": "markdown",
   "metadata": {},
   "source": [
    "**Web crawling** refers to downloading and storing the contents of a large number of websites, by following links in web pages. Web crawlers are called such because they crawl across the web."
   ]
  },
  {
   "cell_type": "markdown",
   "metadata": {},
   "source": [
    "### 2 - Uses of Web Scraping/Crawling"
   ]
  },
  {
   "cell_type": "markdown",
   "metadata": {},
   "source": [
    "**2.1 - Search Engines** – One of the largest companies whose whole business is based on Web Scraping. It is hard to imagine going by one day without using Google."
   ]
  },
  {
   "cell_type": "markdown",
   "metadata": {},
   "source": [
    "-  <font color=red>Googlebot</font> - _Google's web crawling bot. Crawling is the process by which Googlebot discovers new and updated pages to be added to the Google index. We use a huge set of computers to fetch (or \"crawl\") billions of pages on the web. Googlebot uses an algorithmic process: computer programs determine which sites to crawl, how often, and how many pages to fetch from each site._"
   ]
  },
  {
   "cell_type": "markdown",
   "metadata": {},
   "source": [
    "**2.2 - Content Aggregators**– almost all the content aggregators use web scraping. Job Aggregators scrape job boards and company websites and grab latest job openings."
   ]
  },
  {
   "cell_type": "markdown",
   "metadata": {},
   "source": [
    "**2.3 - Application**- Price monitoring, traning datasets for Machine Learning, etc."
   ]
  },
  {
   "cell_type": "markdown",
   "metadata": {},
   "source": [
    "### 3 - How does a web scraper work?"
   ]
  },
  {
   "cell_type": "markdown",
   "metadata": {},
   "source": [
    "-  Step 1: Download content of web pages\n",
    "-  Step 2: Parse and extract data\n",
    "-  Step 3: Store data as txt, csv, json or in database, etc."
   ]
  },
  {
   "cell_type": "markdown",
   "metadata": {},
   "source": [
    "### 4 - HTML Introduction"
   ]
  },
  {
   "cell_type": "markdown",
   "metadata": {},
   "source": [
    "**4.1 What is HTML?**  \n",
    "\n",
    "-  HTML is the standard markup language for creating Web pages.\n",
    "-  HTML elements are the building blocks of HTML pages, which are represented by tags\n",
    "-  HTML tags label pieces of content such as \"heading\", \"paragraph\", \"table\", and so on\n",
    "-  Browsers do not display the HTML tags, but use them to render the content of the page"
   ]
  },
  {
   "cell_type": "markdown",
   "metadata": {},
   "source": [
    "**4.2 A Simple HTML Document**"
   ]
  },
  {
   "cell_type": "raw",
   "metadata": {},
   "source": [
    "    <!DOCTYPE html>\n",
    "    <html>\n",
    "    <head>\n",
    "        <title>Page Title</title>\n",
    "    </head>\n",
    "    <body>\n",
    "        <h1>My First Heading</h1>\n",
    "        <p>My first paragraph.</p>\n",
    "    </body>\n",
    "    </html>"
   ]
  },
  {
   "cell_type": "markdown",
   "metadata": {},
   "source": [
    "What it looks like in web browser:<br>\n",
    "<!DOCTYPE html>\n",
    "    <html>\n",
    "    <head>\n",
    "        <title>Page Title</title>\n",
    "    </head>\n",
    "    <body>\n",
    "        <h1>My First Heading</h1>\n",
    "        <p>My first paragraph.</p>\n",
    "    </body>\n",
    "    </html>"
   ]
  },
  {
   "cell_type": "markdown",
   "metadata": {},
   "source": [
    "**Example Explained**   \n",
    "-  The <!DOCTYPE html> declaration defines this document to be HTML5      \n",
    "-  The < html> element is the root element of an HTML page   \n",
    "-  The < head> element contains meta information about the document   \n",
    "-  The < title> element specifies a title for the document  \n",
    "-  The < body> element contains the visible page content  \n",
    "-  The < h1> element defines a large heading  \n",
    "-  The < p> element defines a paragraph  "
   ]
  },
  {
   "cell_type": "markdown",
   "metadata": {},
   "source": [
    "**4.3 HTML Tags**"
   ]
  },
  {
   "cell_type": "markdown",
   "metadata": {},
   "source": [
    "-  HTML tags are element names surrounded by angle brackets:\n",
    "-  HTML tags normally come in pairs like < p> and < /p>\n",
    "-  The first tag in a pair is the start tag, the second tag is the end tag\n",
    "-  < tagname>content goes here...< /tagname>\n",
    "-  The end tag is written like the start tag, but with a forward slash inserted before the tag name"
   ]
  },
  {
   "cell_type": "markdown",
   "metadata": {},
   "source": [
    "**4.4 Web Browsers**"
   ]
  },
  {
   "cell_type": "markdown",
   "metadata": {},
   "source": [
    "-  The purpose of a web browser (Chrome, IE, Firefox, Safari) is to read HTML documents and display them.\n",
    "-  The browser does not display the HTML tags, but uses them to determine how to display the document:\n",
    "-  Note: Only the content inside the < body> section is displayed in a browser."
   ]
  },
  {
   "cell_type": "markdown",
   "metadata": {},
   "source": [
    " "
   ]
  },
  {
   "cell_type": "markdown",
   "metadata": {},
   "source": [
    " "
   ]
  },
  {
   "cell_type": "markdown",
   "metadata": {},
   "source": [
    "## Part 2 - Scraping IMDB Top 250"
   ]
  },
  {
   "cell_type": "markdown",
   "metadata": {},
   "source": [
    "###  1 - Packages"
   ]
  },
  {
   "cell_type": "code",
   "execution_count": 1,
   "metadata": {},
   "outputs": [
    {
     "name": "stdout",
     "output_type": "stream",
     "text": [
      "Requests version: 2.24.0\n",
      "Beautiful Soup version: 4.7.1\n"
     ]
    }
   ],
   "source": [
    "import requests\n",
    "print('Requests version: ' + requests.__version__)\n",
    "\n",
    "import bs4\n",
    "print('Beautiful Soup version: ' + bs4.__version__)\n",
    "from bs4 import BeautifulSoup"
   ]
  },
  {
   "cell_type": "markdown",
   "metadata": {},
   "source": [
    "###  2 - Send Requests"
   ]
  },
  {
   "cell_type": "code",
   "execution_count": null,
   "metadata": {},
   "outputs": [],
   "source": [
    "# Send a request to https://www.imdb.com/chart/top and download the HTML Content of the page\n",
    "r = requests.get('https://www.imdb.com/chart/top')\n",
    "page_html = r.text\n",
    "# f = open('source_code.txt','w')\n",
    "# f.write(page_html)\n",
    "# f.close()\n",
    "\n",
    "# If above code is not working, use below code to replace it.\n",
    "# with open('source_code.txt', 'r') as myfile:\n",
    "#     page_html = myfile.read().replace('\\n', '')"
   ]
  },
  {
   "cell_type": "code",
   "execution_count": null,
   "metadata": {},
   "outputs": [],
   "source": [
    "page_html[:500]"
   ]
  },
  {
   "cell_type": "markdown",
   "metadata": {},
   "source": [
    "### 3 - Pass the HTML Content to BeautifulSoup and construct a tree (BS object) to parse"
   ]
  },
  {
   "cell_type": "code",
   "execution_count": null,
   "metadata": {},
   "outputs": [],
   "source": [
    "### START CODE HERE ###\n",
    "page_soup = None\n",
    "### END CODE HERE ###"
   ]
  },
  {
   "cell_type": "markdown",
   "metadata": {},
   "source": [
    "### 4 - Find all the tags inside the tree that include top 250 movies' information "
   ]
  },
  {
   "cell_type": "code",
   "execution_count": null,
   "metadata": {},
   "outputs": [],
   "source": [
    "### START CODE HERE ###\n",
    "movies = None\n",
    "movies[:3]\n",
    "### END CODE HERE ###"
   ]
  },
  {
   "cell_type": "markdown",
   "metadata": {},
   "source": [
    "** Exercise: Print out movie name, year, rating, number of user ratings for the highest ranking movie **"
   ]
  },
  {
   "cell_type": "code",
   "execution_count": null,
   "metadata": {},
   "outputs": [],
   "source": [
    "# Get bs4.element.Tag that includes the highest ranking movie info\n",
    "### START CODE HERE ###\n",
    "movie = None\n",
    "movie\n",
    "### END CODE HERE ###"
   ]
  },
  {
   "cell_type": "code",
   "execution_count": null,
   "metadata": {},
   "outputs": [],
   "source": [
    "# Check the type\n",
    "### START CODE HERE ###\n",
    "None\n",
    "### END CODE HERE ###"
   ]
  },
  {
   "cell_type": "code",
   "execution_count": null,
   "metadata": {
    "scrolled": true
   },
   "outputs": [],
   "source": [
    "# Print out\n",
    "### START CODE HERE ###\n",
    "None\n",
    "### END CODE HERE ###"
   ]
  },
  {
   "cell_type": "code",
   "execution_count": null,
   "metadata": {},
   "outputs": [],
   "source": [
    "# Get movie name\n",
    "### START CODE HERE ###\n",
    "name = None\n",
    "name = None\n",
    "### END CODE HERE ###\n",
    "print(name)"
   ]
  },
  {
   "cell_type": "code",
   "execution_count": null,
   "metadata": {},
   "outputs": [],
   "source": [
    "# Get movie year\n",
    "### START CODE HERE ###\n",
    "year = None\n",
    "year = None\n",
    "### END CODE HERE ###\n",
    "print(year)"
   ]
  },
  {
   "cell_type": "code",
   "execution_count": null,
   "metadata": {},
   "outputs": [],
   "source": [
    "# Get movie rating\n",
    "### START CODE HERE ###\n",
    "rating = None\n",
    "rating = None\n",
    "### END CODE HERE ###\n",
    "print(rating)"
   ]
  },
  {
   "cell_type": "code",
   "execution_count": null,
   "metadata": {},
   "outputs": [],
   "source": [
    "# Get number of user rating\n",
    "### START CODE HERE ###\n",
    "num_user_rating = None\n",
    "num_user_rating = None\n",
    "### END CODE HERE ###\n",
    "print(num_user_rating)"
   ]
  },
  {
   "cell_type": "markdown",
   "metadata": {},
   "source": [
    "### 5 - Extract movie features and save data in a csv file"
   ]
  },
  {
   "cell_type": "code",
   "execution_count": null,
   "metadata": {},
   "outputs": [],
   "source": [
    "# File name 'imdb_top_250.csv'\n",
    "### START CODE HERE ###\n",
    "filename = None\n",
    "### END CODE HERE ###"
   ]
  },
  {
   "cell_type": "code",
   "execution_count": null,
   "metadata": {},
   "outputs": [],
   "source": [
    "# Create above file with write permission\n",
    "### START CODE HERE ###\n",
    "f = None\n",
    "### END CODE HERE ###"
   ]
  },
  {
   "cell_type": "code",
   "execution_count": null,
   "metadata": {},
   "outputs": [],
   "source": [
    "# Define header name\n",
    "# Rank, Name, Year, Rating, Num_user_rating\n",
    "### START CODE HERE ###\n",
    "headers = None\n",
    "### END CODE HERE ###"
   ]
  },
  {
   "cell_type": "code",
   "execution_count": null,
   "metadata": {},
   "outputs": [],
   "source": [
    "# Write header in csv\n",
    "### START CODE HERE ###\n",
    "None\n",
    "### END CODE HERE ###"
   ]
  },
  {
   "cell_type": "markdown",
   "metadata": {},
   "source": [
    "**Extract movie features and save data in a csv file**"
   ]
  },
  {
   "cell_type": "raw",
   "metadata": {},
   "source": [
    "Hint: You need a for loop to extract all 250 movies' features. Within each iteration, try to leverage above exercise code to grab the info you need. At the end of each iter, write the info to csv. For \"Rank\" feature, don't forget to initialize its value before the loop."
   ]
  },
  {
   "cell_type": "code",
   "execution_count": null,
   "metadata": {},
   "outputs": [],
   "source": [
    "### START CODE HERE ###\n",
    "Rank = None\n",
    "for ...:\n",
    "    \n",
    "    Rank = None\n",
    "    \n",
    "    Name = None\n",
    "    Name = None\n",
    "    \n",
    "    Year = None\n",
    "    Year = None\n",
    "\n",
    "    Rating = None\n",
    "    Rating = None\n",
    "        \n",
    "    Num_user_rating = None\n",
    "    Num_user_rating = None\n",
    "    \n",
    "    None\n",
    "### END CODE HERE ###"
   ]
  },
  {
   "cell_type": "markdown",
   "metadata": {},
   "source": [
    "**Don't forget the last step!!! -- close the file**"
   ]
  },
  {
   "cell_type": "code",
   "execution_count": null,
   "metadata": {},
   "outputs": [],
   "source": [
    "### START CODE HERE ###\n",
    "None\n",
    "### END CODE HERE ###"
   ]
  }
 ],
 "metadata": {
  "kernelspec": {
   "display_name": "Python 3",
   "language": "python",
   "name": "python3"
  },
  "language_info": {
   "codemirror_mode": {
    "name": "ipython",
    "version": 3
   },
   "file_extension": ".py",
   "mimetype": "text/x-python",
   "name": "python",
   "nbconvert_exporter": "python",
   "pygments_lexer": "ipython3",
   "version": "3.7.3"
  }
 },
 "nbformat": 4,
 "nbformat_minor": 2
}
