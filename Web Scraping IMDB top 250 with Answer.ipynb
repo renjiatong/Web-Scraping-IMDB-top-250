{
 "cells": [
  {
   "cell_type": "markdown",
   "metadata": {},
   "source": [
    "# Web Scraping IMDB Top 250"
   ]
  },
  {
   "cell_type": "markdown",
   "metadata": {},
   "source": [
    "![title](img/crawling.jpg)"
   ]
  },
  {
   "cell_type": "markdown",
   "metadata": {},
   "source": [
    "## Part 1 - Web Scraping Basics"
   ]
  },
  {
   "cell_type": "markdown",
   "metadata": {},
   "source": [
    "### 1 - What is web scraping and web crawling？"
   ]
  },
  {
   "cell_type": "markdown",
   "metadata": {},
   "source": [
    "**Web scraping** is an automated program that queries a web server, requests data (usually in the form of HTML), and then parses that data to extract needed information."
   ]
  },
  {
   "cell_type": "markdown",
   "metadata": {},
   "source": [
    "**Web crawling** refers to downloading and storing the contents of a large number of websites, by following links in web pages. Web crawlers are called such because they crawl across the web."
   ]
  },
  {
   "cell_type": "markdown",
   "metadata": {},
   "source": [
    "### 2 - Uses of Web Scraping/Crawling"
   ]
  },
  {
   "cell_type": "markdown",
   "metadata": {},
   "source": [
    "**2.1 - Search Engines** – One of the largest companies whose whole business is based on Web Scraping. It is hard to imagine going by one day without using Google."
   ]
  },
  {
   "cell_type": "markdown",
   "metadata": {},
   "source": [
    "-  <font color=red>Googlebot</font> - _Google's web crawling bot. Crawling is the process by which Googlebot discovers new and updated pages to be added to the Google index. We use a huge set of computers to fetch (or \"crawl\") billions of pages on the web. Googlebot uses an algorithmic process: computer programs determine which sites to crawl, how often, and how many pages to fetch from each site._"
   ]
  },
  {
   "cell_type": "markdown",
   "metadata": {},
   "source": [
    "**2.2 - Content Aggregators** – almost all the content aggregators use web scraping. Job Aggregators scrape job boards and company websites and grab latest job openings."
   ]
  },
  {
   "cell_type": "markdown",
   "metadata": {},
   "source": [
    "**2.3 - Application** - Price monitoring, traning datasets for Machine Learning, etc."
   ]
  },
  {
   "cell_type": "markdown",
   "metadata": {},
   "source": [
    "### 3 - How does a web scraper work?"
   ]
  },
  {
   "cell_type": "markdown",
   "metadata": {},
   "source": [
    "-  Step 1: Download content of web pages\n",
    "-  Step 2: Parse and extract data\n",
    "-  Step 3: Store data as txt, csv, json or in database, etc."
   ]
  },
  {
   "cell_type": "markdown",
   "metadata": {},
   "source": [
    "### 4 - HTML Introduction"
   ]
  },
  {
   "cell_type": "markdown",
   "metadata": {},
   "source": [
    "**4.1 What is HTML?**   \n",
    "\n",
    "-  HTML is the standard markup language for creating Web pages.\n",
    "-  HTML elements are the building blocks of HTML pages, which are represented by tags\n",
    "-  HTML tags label pieces of content such as \"heading\", \"paragraph\", \"table\", and so on\n",
    "-  Browsers do not display the HTML tags, but use them to render the content of the page"
   ]
  },
  {
   "cell_type": "markdown",
   "metadata": {},
   "source": [
    "**4.2 A Simple HTML Document**"
   ]
  },
  {
   "cell_type": "raw",
   "metadata": {},
   "source": [
    "    <!DOCTYPE html>\n",
    "    <html>\n",
    "    <head>\n",
    "        <title>Page Title</title>\n",
    "    </head>\n",
    "    <body>\n",
    "        <h1>My First Heading</h1>\n",
    "        <p>My first paragraph.</p>\n",
    "    </body>\n",
    "    </html>"
   ]
  },
  {
   "cell_type": "markdown",
   "metadata": {},
   "source": [
    "What it looks like in web browser:<br>\n",
    "<!DOCTYPE html>\n",
    "    <html>\n",
    "    <head>\n",
    "        <title>Page Title</title>\n",
    "    </head>\n",
    "    <body>\n",
    "        <h1>My First Heading</h1>\n",
    "        <p>My first paragraph.</p>\n",
    "    </body>\n",
    "    </html>"
   ]
  },
  {
   "cell_type": "markdown",
   "metadata": {},
   "source": [
    "**Example Explained**    \n",
    "-  The <!DOCTYPE html> declaration defines this document to be HTML5      \n",
    "-  The < html> element is the root element of an HTML page   \n",
    "-  The < head> element contains meta information about the document   \n",
    "-  The < title> element specifies a title for the document  \n",
    "-  The < body> element contains the visible page content  \n",
    "-  The < h1> element defines a large heading  \n",
    "-  The < p> element defines a paragraph  "
   ]
  },
  {
   "cell_type": "markdown",
   "metadata": {},
   "source": [
    "**4.3 HTML Tags**"
   ]
  },
  {
   "cell_type": "markdown",
   "metadata": {},
   "source": [
    "-  HTML tags are element names surrounded by angle brackets:\n",
    "-  HTML tags normally come in pairs like < p> and < /p>\n",
    "-  The first tag in a pair is the start tag, the second tag is the end tag\n",
    "-  < tagname>content goes here...< /tagname>\n",
    "-  The end tag is written like the start tag, but with a forward slash inserted before the tag name"
   ]
  },
  {
   "cell_type": "markdown",
   "metadata": {},
   "source": [
    "**4.4 Web Browsers**"
   ]
  },
  {
   "cell_type": "markdown",
   "metadata": {},
   "source": [
    "-  The purpose of a web browser (Chrome, IE, Firefox, Safari) is to read HTML documents and display them.\n",
    "-  The browser does not display the HTML tags, but uses them to determine how to display the document:\n",
    "-  Note: Only the content inside the < body> section is displayed in a browser."
   ]
  },
  {
   "cell_type": "markdown",
   "metadata": {},
   "source": [
    " "
   ]
  },
  {
   "cell_type": "markdown",
   "metadata": {},
   "source": [
    "## Part 2 - Scraping IMDB Top 250"
   ]
  },
  {
   "cell_type": "markdown",
   "metadata": {},
   "source": [
    "###  1 - Packages"
   ]
  },
  {
   "cell_type": "code",
   "execution_count": 1,
   "metadata": {},
   "outputs": [
    {
     "name": "stdout",
     "output_type": "stream",
     "text": [
      "Requests version: 2.23.0\n",
      "Beautiful Soup version: 4.9.0\n"
     ]
    }
   ],
   "source": [
    "import requests\n",
    "print('Requests version: ' + requests.__version__)\n",
    "\n",
    "import bs4\n",
    "print('Beautiful Soup version: ' + bs4.__version__)\n",
    "from bs4 import BeautifulSoup"
   ]
  },
  {
   "cell_type": "markdown",
   "metadata": {},
   "source": [
    "###  2 - Send Requests"
   ]
  },
  {
   "cell_type": "code",
   "execution_count": 2,
   "metadata": {},
   "outputs": [],
   "source": [
    "# Send a request to https://www.imdb.com/chart/top and download the HTML Content of the page\n",
    "r = requests.get('https://www.imdb.com/chart/top')\n",
    "page_html = r.text\n",
    "# f = open('source_code.txt','w')\n",
    "# f.write(page_html)\n",
    "# f.close()\n",
    "\n",
    "# If above code is not working, use below code to replace it.\n",
    "# with open('source_code.txt', 'r') as myfile:\n",
    "#     page_html = myfile.read().replace('\\n', '')"
   ]
  },
  {
   "cell_type": "code",
   "execution_count": 3,
   "metadata": {},
   "outputs": [
    {
     "data": {
      "text/plain": [
       "'\\n\\n\\n<!DOCTYPE html>\\n<html\\n    xmlns:og=\"http://ogp.me/ns#\"\\n    xmlns:fb=\"http://www.facebook.com/2008/fbml\">\\n    <head>\\n         \\n        <meta charset=\"utf-8\">\\n        <meta http-equiv=\"X-UA-Compatible\" content=\"IE=edge\">\\n\\n    \\n    \\n    \\n\\n    \\n    \\n    \\n\\n    <meta name=\"apple-itunes-app\" content=\"app-id=342792525, app-argument=imdb:///?src=mdot\">\\n            <style>\\n                body#styleguide-v2 {\\n                    background: no-repeat fixed center top #000;\\n                }\\n           '"
      ]
     },
     "execution_count": 3,
     "metadata": {},
     "output_type": "execute_result"
    }
   ],
   "source": [
    "page_html[:500]"
   ]
  },
  {
   "cell_type": "markdown",
   "metadata": {},
   "source": [
    "### 3 - Pass the HTML Content to BeautifulSoup and construct a tree (BS object) to parse"
   ]
  },
  {
   "cell_type": "code",
   "execution_count": 4,
   "metadata": {},
   "outputs": [],
   "source": [
    "### START CODE HERE ###\n",
    "page_soup = BeautifulSoup(page_html, \"html.parser\")\n",
    "### END CODE HERE ###"
   ]
  },
  {
   "cell_type": "markdown",
   "metadata": {},
   "source": [
    "### 4 - Find all the tags inside the tree that include top 250 movies' information "
   ]
  },
  {
   "cell_type": "code",
   "execution_count": 5,
   "metadata": {},
   "outputs": [
    {
     "data": {
      "text/plain": [
       "[<tr>\n",
       " <th></th>\n",
       " <th>Rank &amp; Title</th>\n",
       " <th>IMDb Rating</th>\n",
       " <th>Your Rating</th>\n",
       " <th></th>\n",
       " </tr>, <tr>\n",
       " <td class=\"posterColumn\">\n",
       " <span data-value=\"1\" name=\"rk\"></span>\n",
       " <span data-value=\"9.222907958359116\" name=\"ir\"></span>\n",
       " <span data-value=\"7.791552E11\" name=\"us\"></span>\n",
       " <span data-value=\"2312962\" name=\"nv\"></span>\n",
       " <span data-value=\"-1.7770920416408842\" name=\"ur\"></span>\n",
       " <a href=\"/title/tt0111161/\"> <img alt=\"The Shawshank Redemption\" height=\"67\" src=\"https://m.media-amazon.com/images/M/MV5BMDFkYTc0MGEtZmNhMC00ZDIzLWFmNTEtODM1ZmRlYWMwMWFmXkEyXkFqcGdeQXVyMTMxODk2OTU@._V1_UY67_CR0,0,45,67_AL_.jpg\" width=\"45\"/>\n",
       " </a> </td>\n",
       " <td class=\"titleColumn\">\n",
       "       1.\n",
       "       <a href=\"/title/tt0111161/\" title=\"Frank Darabont (dir.), Tim Robbins, Morgan Freeman\">The Shawshank Redemption</a>\n",
       " <span class=\"secondaryInfo\">(1994)</span>\n",
       " </td>\n",
       " <td class=\"ratingColumn imdbRating\">\n",
       " <strong title=\"9.2 based on 2,312,962 user ratings\">9.2</strong>\n",
       " </td>\n",
       " <td class=\"ratingColumn\">\n",
       " <div class=\"seen-widget seen-widget-tt0111161 pending\" data-titleid=\"tt0111161\">\n",
       " <div class=\"boundary\">\n",
       " <div class=\"popover\">\n",
       " <span class=\"delete\"> </span><ol><li>1<li>2<li>3<li>4<li>5<li>6<li>7<li>8<li>9<li>10</li></li></li></li></li></li></li></li></li></li></ol> </div>\n",
       " </div>\n",
       " <div class=\"inline\">\n",
       " <div class=\"pending\"></div>\n",
       " <div class=\"unseeable\">NOT YET RELEASED</div>\n",
       " <div class=\"unseen\"> </div>\n",
       " <div class=\"rating\"></div>\n",
       " <div class=\"seen\">Seen</div>\n",
       " </div>\n",
       " </div>\n",
       " </td>\n",
       " <td class=\"watchlistColumn\">\n",
       " <div class=\"wlb_ribbon\" data-recordmetrics=\"true\" data-tconst=\"tt0111161\"></div>\n",
       " </td>\n",
       " </tr>, <tr>\n",
       " <td class=\"posterColumn\">\n",
       " <span data-value=\"2\" name=\"rk\"></span>\n",
       " <span data-value=\"9.148418064761477\" name=\"ir\"></span>\n",
       " <span data-value=\"6.93792E10\" name=\"us\"></span>\n",
       " <span data-value=\"1596787\" name=\"nv\"></span>\n",
       " <span data-value=\"-1.8515819352385225\" name=\"ur\"></span>\n",
       " <a href=\"/title/tt0068646/\"> <img alt=\"The Godfather\" height=\"67\" src=\"https://m.media-amazon.com/images/M/MV5BM2MyNjYxNmUtYTAwNi00MTYxLWJmNWYtYzZlODY3ZTk3OTFlXkEyXkFqcGdeQXVyNzkwMjQ5NzM@._V1_UY67_CR1,0,45,67_AL_.jpg\" width=\"45\"/>\n",
       " </a> </td>\n",
       " <td class=\"titleColumn\">\n",
       "       2.\n",
       "       <a href=\"/title/tt0068646/\" title=\"Francis Ford Coppola (dir.), Marlon Brando, Al Pacino\">The Godfather</a>\n",
       " <span class=\"secondaryInfo\">(1972)</span>\n",
       " </td>\n",
       " <td class=\"ratingColumn imdbRating\">\n",
       " <strong title=\"9.1 based on 1,596,787 user ratings\">9.1</strong>\n",
       " </td>\n",
       " <td class=\"ratingColumn\">\n",
       " <div class=\"seen-widget seen-widget-tt0068646 pending\" data-titleid=\"tt0068646\">\n",
       " <div class=\"boundary\">\n",
       " <div class=\"popover\">\n",
       " <span class=\"delete\"> </span><ol><li>1<li>2<li>3<li>4<li>5<li>6<li>7<li>8<li>9<li>10</li></li></li></li></li></li></li></li></li></li></ol> </div>\n",
       " </div>\n",
       " <div class=\"inline\">\n",
       " <div class=\"pending\"></div>\n",
       " <div class=\"unseeable\">NOT YET RELEASED</div>\n",
       " <div class=\"unseen\"> </div>\n",
       " <div class=\"rating\"></div>\n",
       " <div class=\"seen\">Seen</div>\n",
       " </div>\n",
       " </div>\n",
       " </td>\n",
       " <td class=\"watchlistColumn\">\n",
       " <div class=\"wlb_ribbon\" data-recordmetrics=\"true\" data-tconst=\"tt0068646\"></div>\n",
       " </td>\n",
       " </tr>]"
      ]
     },
     "execution_count": 5,
     "metadata": {},
     "output_type": "execute_result"
    }
   ],
   "source": [
    "### START CODE HERE ###\n",
    "movies = page_soup.find_all(name = \"tr\")\n",
    "movies[:3]\n",
    "### END CODE HERE ###"
   ]
  },
  {
   "cell_type": "markdown",
   "metadata": {},
   "source": [
    "**Exercise: Print out movie name, year, rating, number of user ratings for the highest ranking movie**"
   ]
  },
  {
   "cell_type": "code",
   "execution_count": 6,
   "metadata": {},
   "outputs": [
    {
     "data": {
      "text/plain": [
       "<tr>\n",
       "<td class=\"posterColumn\">\n",
       "<span data-value=\"1\" name=\"rk\"></span>\n",
       "<span data-value=\"9.222907958359116\" name=\"ir\"></span>\n",
       "<span data-value=\"7.791552E11\" name=\"us\"></span>\n",
       "<span data-value=\"2312962\" name=\"nv\"></span>\n",
       "<span data-value=\"-1.7770920416408842\" name=\"ur\"></span>\n",
       "<a href=\"/title/tt0111161/\"> <img alt=\"The Shawshank Redemption\" height=\"67\" src=\"https://m.media-amazon.com/images/M/MV5BMDFkYTc0MGEtZmNhMC00ZDIzLWFmNTEtODM1ZmRlYWMwMWFmXkEyXkFqcGdeQXVyMTMxODk2OTU@._V1_UY67_CR0,0,45,67_AL_.jpg\" width=\"45\"/>\n",
       "</a> </td>\n",
       "<td class=\"titleColumn\">\n",
       "      1.\n",
       "      <a href=\"/title/tt0111161/\" title=\"Frank Darabont (dir.), Tim Robbins, Morgan Freeman\">The Shawshank Redemption</a>\n",
       "<span class=\"secondaryInfo\">(1994)</span>\n",
       "</td>\n",
       "<td class=\"ratingColumn imdbRating\">\n",
       "<strong title=\"9.2 based on 2,312,962 user ratings\">9.2</strong>\n",
       "</td>\n",
       "<td class=\"ratingColumn\">\n",
       "<div class=\"seen-widget seen-widget-tt0111161 pending\" data-titleid=\"tt0111161\">\n",
       "<div class=\"boundary\">\n",
       "<div class=\"popover\">\n",
       "<span class=\"delete\"> </span><ol><li>1<li>2<li>3<li>4<li>5<li>6<li>7<li>8<li>9<li>10</li></li></li></li></li></li></li></li></li></li></ol> </div>\n",
       "</div>\n",
       "<div class=\"inline\">\n",
       "<div class=\"pending\"></div>\n",
       "<div class=\"unseeable\">NOT YET RELEASED</div>\n",
       "<div class=\"unseen\"> </div>\n",
       "<div class=\"rating\"></div>\n",
       "<div class=\"seen\">Seen</div>\n",
       "</div>\n",
       "</div>\n",
       "</td>\n",
       "<td class=\"watchlistColumn\">\n",
       "<div class=\"wlb_ribbon\" data-recordmetrics=\"true\" data-tconst=\"tt0111161\"></div>\n",
       "</td>\n",
       "</tr>"
      ]
     },
     "execution_count": 6,
     "metadata": {},
     "output_type": "execute_result"
    }
   ],
   "source": [
    "# Get bs4.element.Tag that includes the highest ranking movie info\n",
    "### START CODE HERE ###\n",
    "movie = movies[1]\n",
    "movie\n",
    "### END CODE HERE ###"
   ]
  },
  {
   "cell_type": "code",
   "execution_count": 7,
   "metadata": {},
   "outputs": [
    {
     "data": {
      "text/plain": [
       "bs4.element.Tag"
      ]
     },
     "execution_count": 7,
     "metadata": {},
     "output_type": "execute_result"
    }
   ],
   "source": [
    "# Check the type\n",
    "### START CODE HERE ###\n",
    "type(movie)\n",
    "### END CODE HERE ###"
   ]
  },
  {
   "cell_type": "code",
   "execution_count": 8,
   "metadata": {
    "scrolled": false
   },
   "outputs": [
    {
     "name": "stdout",
     "output_type": "stream",
     "text": [
      "<tr>\n",
      " <td class=\"posterColumn\">\n",
      "  <span data-value=\"1\" name=\"rk\">\n",
      "  </span>\n",
      "  <span data-value=\"9.222907958359116\" name=\"ir\">\n",
      "  </span>\n",
      "  <span data-value=\"7.791552E11\" name=\"us\">\n",
      "  </span>\n",
      "  <span data-value=\"2312962\" name=\"nv\">\n",
      "  </span>\n",
      "  <span data-value=\"-1.7770920416408842\" name=\"ur\">\n",
      "  </span>\n",
      "  <a href=\"/title/tt0111161/\">\n",
      "   <img alt=\"The Shawshank Redemption\" height=\"67\" src=\"https://m.media-amazon.com/images/M/MV5BMDFkYTc0MGEtZmNhMC00ZDIzLWFmNTEtODM1ZmRlYWMwMWFmXkEyXkFqcGdeQXVyMTMxODk2OTU@._V1_UY67_CR0,0,45,67_AL_.jpg\" width=\"45\"/>\n",
      "  </a>\n",
      " </td>\n",
      " <td class=\"titleColumn\">\n",
      "  1.\n",
      "  <a href=\"/title/tt0111161/\" title=\"Frank Darabont (dir.), Tim Robbins, Morgan Freeman\">\n",
      "   The Shawshank Redemption\n",
      "  </a>\n",
      "  <span class=\"secondaryInfo\">\n",
      "   (1994)\n",
      "  </span>\n",
      " </td>\n",
      " <td class=\"ratingColumn imdbRating\">\n",
      "  <strong title=\"9.2 based on 2,312,962 user ratings\">\n",
      "   9.2\n",
      "  </strong>\n",
      " </td>\n",
      " <td class=\"ratingColumn\">\n",
      "  <div class=\"seen-widget seen-widget-tt0111161 pending\" data-titleid=\"tt0111161\">\n",
      "   <div class=\"boundary\">\n",
      "    <div class=\"popover\">\n",
      "     <span class=\"delete\">\n",
      "     </span>\n",
      "     <ol>\n",
      "      <li>\n",
      "       1\n",
      "       <li>\n",
      "        2\n",
      "        <li>\n",
      "         3\n",
      "         <li>\n",
      "          4\n",
      "          <li>\n",
      "           5\n",
      "           <li>\n",
      "            6\n",
      "            <li>\n",
      "             7\n",
      "             <li>\n",
      "              8\n",
      "              <li>\n",
      "               9\n",
      "               <li>\n",
      "                10\n",
      "               </li>\n",
      "              </li>\n",
      "             </li>\n",
      "            </li>\n",
      "           </li>\n",
      "          </li>\n",
      "         </li>\n",
      "        </li>\n",
      "       </li>\n",
      "      </li>\n",
      "     </ol>\n",
      "    </div>\n",
      "   </div>\n",
      "   <div class=\"inline\">\n",
      "    <div class=\"pending\">\n",
      "    </div>\n",
      "    <div class=\"unseeable\">\n",
      "     NOT YET RELEASED\n",
      "    </div>\n",
      "    <div class=\"unseen\">\n",
      "    </div>\n",
      "    <div class=\"rating\">\n",
      "    </div>\n",
      "    <div class=\"seen\">\n",
      "     Seen\n",
      "    </div>\n",
      "   </div>\n",
      "  </div>\n",
      " </td>\n",
      " <td class=\"watchlistColumn\">\n",
      "  <div class=\"wlb_ribbon\" data-recordmetrics=\"true\" data-tconst=\"tt0111161\">\n",
      "  </div>\n",
      " </td>\n",
      "</tr>\n",
      "\n"
     ]
    }
   ],
   "source": [
    "# Print out\n",
    "### START CODE HERE ###\n",
    "print(movie.prettify())\n",
    "### END CODE HERE ###"
   ]
  },
  {
   "cell_type": "code",
   "execution_count": 9,
   "metadata": {},
   "outputs": [
    {
     "name": "stdout",
     "output_type": "stream",
     "text": [
      "The Shawshank Redemption\n"
     ]
    }
   ],
   "source": [
    "# Get movie name\n",
    "### START CODE HERE ###\n",
    "name = movie.find(name=\"td\",attrs={\"class\":\"titleColumn\"}).find(name=\"a\").string\n",
    "name = name.replace(\",\",\"|\").strip()\n",
    "### END CODE HERE ###\n",
    "print(name)"
   ]
  },
  {
   "cell_type": "code",
   "execution_count": 10,
   "metadata": {},
   "outputs": [
    {
     "name": "stdout",
     "output_type": "stream",
     "text": [
      "1994\n"
     ]
    }
   ],
   "source": [
    "# Get movie year\n",
    "### START CODE HERE ###\n",
    "year = movie.find(name=\"td\",attrs={\"class\":\"titleColumn\"}).find(name=\"span\").string\n",
    "year = year.replace(\")\", \"\").replace(\"(\", \"\").strip()\n",
    "### END CODE HERE ###\n",
    "print(year)"
   ]
  },
  {
   "cell_type": "code",
   "execution_count": 11,
   "metadata": {},
   "outputs": [
    {
     "name": "stdout",
     "output_type": "stream",
     "text": [
      "9.2\n"
     ]
    }
   ],
   "source": [
    "# Get movie rating\n",
    "### START CODE HERE ###\n",
    "rating = movie.find(name=\"td\",attrs={\"class\":\"ratingColumn imdbRating\"}).find(name=\"strong\").string\n",
    "rating = rating.strip()\n",
    "### END CODE HERE ###\n",
    "print(rating)"
   ]
  },
  {
   "cell_type": "code",
   "execution_count": 12,
   "metadata": {},
   "outputs": [
    {
     "name": "stdout",
     "output_type": "stream",
     "text": [
      "2312962\n"
     ]
    }
   ],
   "source": [
    "# Get number of user rating\n",
    "### START CODE HERE ###\n",
    "num_user_rating = movie.find(name=\"td\",attrs={\"class\":\"ratingColumn imdbRating\"}).find(name=\"strong\").attrs['title']\n",
    "num_user_rating = num_user_rating.split(\" \")[3].replace(\",\",\"\")\n",
    "### END CODE HERE ###\n",
    "print(num_user_rating)"
   ]
  },
  {
   "cell_type": "markdown",
   "metadata": {},
   "source": [
    "### 5 - Extract movie features and save data in a csv file"
   ]
  },
  {
   "cell_type": "code",
   "execution_count": 13,
   "metadata": {},
   "outputs": [],
   "source": [
    "# File name 'imdb_top_250.csv'\n",
    "### START CODE HERE ###\n",
    "filename = \"imdb_top_250.csv\"\n",
    "### END CODE HERE ###"
   ]
  },
  {
   "cell_type": "code",
   "execution_count": 14,
   "metadata": {},
   "outputs": [],
   "source": [
    "# Create above file with write permission\n",
    "### START CODE HERE ###\n",
    "f = open(filename, \"w\", encoding='utf-8')\n",
    "### END CODE HERE ###"
   ]
  },
  {
   "cell_type": "code",
   "execution_count": 15,
   "metadata": {},
   "outputs": [],
   "source": [
    "# Define header name\n",
    "# Rank, Name, Year, Rating, Num_user_rating\n",
    "### START CODE HERE ###\n",
    "headers = \"Rank,Name,Year,Rating,Num_user_rating\\n\"\n",
    "### END CODE HERE ###"
   ]
  },
  {
   "cell_type": "code",
   "execution_count": 16,
   "metadata": {},
   "outputs": [
    {
     "data": {
      "text/plain": [
       "38"
      ]
     },
     "execution_count": 16,
     "metadata": {},
     "output_type": "execute_result"
    }
   ],
   "source": [
    "# Write header in csv\n",
    "### START CODE HERE ###\n",
    "f.write(headers)\n",
    "### END CODE HERE ###"
   ]
  },
  {
   "cell_type": "markdown",
   "metadata": {},
   "source": [
    "**Extract movie features and save data in a csv file**"
   ]
  },
  {
   "cell_type": "raw",
   "metadata": {},
   "source": [
    "Hint: You need a for loop to extract all 250 movies' features. Within each iteration, try to leverage above exercise code to grab the info you need. At the end of each iter, write the info to csv. For \"Rank\" feature, don't forget to initialize its value before the loop."
   ]
  },
  {
   "cell_type": "code",
   "execution_count": 17,
   "metadata": {},
   "outputs": [],
   "source": [
    "### START CODE HERE ###\n",
    "Rank = 0\n",
    "for movie in movies[1:251]:\n",
    "    \n",
    "    Rank = Rank + 1\n",
    "    \n",
    "    Name = movie.find(name=\"td\",attrs={\"class\":\"titleColumn\"}).find(name=\"a\").string\n",
    "    Name = Name.replace(\",\",\"|\").strip()\n",
    "    \n",
    "    Year = movie.find(name=\"td\",attrs={\"class\":\"titleColumn\"}).find(name=\"span\").string\n",
    "    Year = Year.replace(\")\", \"\").replace(\"(\", \"\").strip()\n",
    "\n",
    "    Rating = movie.find(name=\"td\",attrs={\"class\":\"ratingColumn imdbRating\"}).find(name=\"strong\").string\n",
    "    Rating = Rating.strip()\n",
    "        \n",
    "    Num_user_rating = movie.find(name=\"td\",attrs={\"class\":\"ratingColumn imdbRating\"}).find(name=\"strong\").attrs['title']\n",
    "    Num_user_rating = Num_user_rating.split(\" \")[3].replace(\",\",\"\")\n",
    "    \n",
    "    f.write(str(Rank) + \",\" + Name + \",\" + Year + \",\" + Rating + \",\" + Num_user_rating + \"\\n\")\n",
    "### END CODE HERE ###"
   ]
  },
  {
   "cell_type": "markdown",
   "metadata": {},
   "source": [
    "**Don't forget the last step!!! -- close the file**"
   ]
  },
  {
   "cell_type": "code",
   "execution_count": 18,
   "metadata": {},
   "outputs": [],
   "source": [
    "### START CODE HERE ###\n",
    "f.close()\n",
    "### END CODE HERE ###"
   ]
  }
 ],
 "metadata": {
  "kernelspec": {
   "display_name": "Python 3",
   "language": "python",
   "name": "python3"
  },
  "language_info": {
   "codemirror_mode": {
    "name": "ipython",
    "version": 3
   },
   "file_extension": ".py",
   "mimetype": "text/x-python",
   "name": "python",
   "nbconvert_exporter": "python",
   "pygments_lexer": "ipython3",
   "version": "3.7.3"
  }
 },
 "nbformat": 4,
 "nbformat_minor": 2
}
